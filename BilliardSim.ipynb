{
 "cells": [
  {
   "cell_type": "markdown",
   "metadata": {},
   "source": [
    "# Maximizing a Pool Break\n"
   ]
  },
  {
   "cell_type": "code",
   "execution_count": 3,
   "metadata": {},
   "outputs": [
    {
     "data": {
      "text/html": [
       "<div id=\"glowscript\" class=\"glowscript\"></div>"
      ],
      "text/plain": [
       "<IPython.core.display.HTML object>"
      ]
     },
     "metadata": {},
     "output_type": "display_data"
    },
    {
     "data": {
      "application/javascript": [
       "if (typeof Jupyter !== \"undefined\") { window.__context = { glowscript_container: $(\"#glowscript\").removeAttr(\"id\")};}else{ element.textContent = ' ';}"
      ],
      "text/plain": [
       "<IPython.core.display.Javascript object>"
      ]
     },
     "metadata": {},
     "output_type": "display_data"
    }
   ],
   "source": [
    "import numpy as np\n",
    "from matplotlib import pyplot as plt\n",
    "from vpython import *\n",
    "import copy\n",
    "\n",
    "g = 9.81\n",
    "mass = 0.17\n",
    "coeffRes = 0.95\n",
    "coeffFric = 0.1\n",
    "fricThreshold = 0.06\n",
    "tableLength = 2.84\n",
    "tableWidth = 1.42\n",
    "pocketRad = 0.07\n",
    "breakSpeed = 12\n",
    "ballRad = 0.0572\n",
    "triangleInit = vec(0,tableLength/4,0)\n",
    "\n",
    "#pocket positions\n",
    "TL = vec(-tableWidth/2,tableLength/2,0)\n",
    "TR = vec(tableWidth/2,tableLength/2,0)\n",
    "ML = vec(-tableWidth/2,0,0)\n",
    "MR = vec(tableWidth/2,0,0)\n",
    "BL = vec(-tableWidth/2,-tableLength/2,0)\n",
    "BR = vec(tableWidth/2,-tableLength/2,0)\n",
    "\n",
    "pockets = [TL,TR,ML,MR,BL,BR]\n",
    "\n",
    "pos0x  = []\n",
    "pos1x  = []\n",
    "pos2x  = []\n",
    "pos3x  = []\n",
    "pos4x  = []\n",
    "pos5x  = []\n",
    "pos6x  = []\n",
    "pos7x  = []\n",
    "pos8x  = []\n",
    "pos9x  = []\n",
    "pos10x = []\n",
    "pos11x = []\n",
    "pos12x = []\n",
    "pos13x = []\n",
    "pos14x = []\n",
    "pos15x = []\n",
    "pos0y  = []\n",
    "pos1y  = []\n",
    "pos2y  = []\n",
    "pos3y  = []\n",
    "pos4y  = []\n",
    "pos5y  = []\n",
    "pos6y  = []\n",
    "pos7y  = []\n",
    "pos8y  = []\n",
    "pos9y  = []\n",
    "pos10y = []\n",
    "pos11y = []\n",
    "pos12y = []\n",
    "pos13y = []\n",
    "pos14y = []\n",
    "pos15y = []\n",
    "posData = [pos0x,pos1x,pos2x,pos3x,pos4x,pos5x,pos6x,pos7x,pos8x,pos9x,pos10x,pos11x,pos12x,pos13x,pos14x,pos15x,\n",
    "           pos0y,pos1y,pos2y,pos3y,pos4y,pos5y,pos6y,pos7y,pos8y,pos9y,pos10y,pos11y,pos12y,pos13y,pos14y,pos15y]\n",
    "pos = []\n",
    "vel = np.full(16,vec(0,0,0))\n",
    "\n",
    "#returns whether a ball is in a pocket    \n",
    "def pocketed(pos):     \n",
    "    for i in range(len(pockets)):\n",
    "        if(mag(pos - pockets[i]) < pocketRad):\n",
    "            #print(\"pocketed\")\n",
    "            return True\n",
    "    return False\n",
    "\n",
    "#run simulation\n",
    "def simBreak(x,y,theta):\n",
    "    \n",
    "    #clear data\n",
    "    for a in posData:\n",
    "        a.clear()\n",
    "        \n",
    "    pocketCount = 0\n",
    "    ballsPocketed = []\n",
    "    pos.append(vec(x,y,0))\n",
    "    posData[0].append(x)\n",
    "    posData[16].append(y)\n",
    "    vel[0] = vec(breakSpeed*cos(theta),breakSpeed*sin(theta),0)\n",
    "    current = copy.deepcopy(triangleInit)\n",
    "    count = 1\n",
    "\n",
    "    #rack triangle\n",
    "    for i in range(5):\n",
    "        for j in range(i+1):\n",
    "            x = current.x + 2*j*ballRad\n",
    "            y = current.y\n",
    "            pos.append(vec(x,y,0))\n",
    "            posData[count].append(x)\n",
    "            posData[count+16].append(y)\n",
    "            count += 1\n",
    "        current.x -= ballRad\n",
    "        current.y += 2*ballRad\n",
    "    \n",
    "    t = 0\n",
    "    dt = 0.0001\n",
    "    while t < 10:\n",
    "        #check if black or white ball is pocketed\n",
    "        if(0 in ballsPocketed or 5 in ballsPocketed):\n",
    "            pocketCount = -1\n",
    "            break\n",
    "        for i in range(16):\n",
    "            ballPos = pos[i]\n",
    "            #check if current ball is pocketed\n",
    "            if(i in ballsPocketed):\n",
    "                continue\n",
    "            elif(pocketed(ballPos)):\n",
    "                pocketCount += 1\n",
    "                ballsPocketed.append(i)\n",
    "                pos[i] = vec(100*i,100*i,100*i)\n",
    "                continue\n",
    "                \n",
    "            #check wall collision\n",
    "            if(ballPos.x - ballRad < -tableWidth/2):\n",
    "                vel[i].x *= -coeffRes\n",
    "            elif(ballPos.x + ballRad > tableWidth/2):\n",
    "                vel[i].x *= -coeffRes\n",
    "            elif(ballPos.y - ballRad < -tableLength/2):\n",
    "                vel[i].y *= -coeffRes\n",
    "            elif(ballPos.y + ballRad > tableLength/2):\n",
    "                vel[i].y *= -coeffRes\n",
    "                \n",
    "            #check ball collision\n",
    "            for j in range(i+1,16):\n",
    "                ballPos2 = pos[j]\n",
    "                if(mag(ballPos - ballPos2) < 2*ballRad):\n",
    "                    vDiff = vel[i] - vel[j]\n",
    "                    xDiff = ballPos - ballPos2\n",
    "                    vel[i] -= coeffRes*(dot(vDiff,xDiff)/mag2(xDiff))*xDiff\n",
    "                    vDiff *= -1\n",
    "                    xDiff *= -1\n",
    "                    vel[j] -= coeffRes*(dot(vDiff,xDiff)/mag2(xDiff))*xDiff\n",
    "                    \n",
    "            #check if stopped\n",
    "            if(mag(vel[i]) < fricThreshold):\n",
    "                vel[i] *= 0\n",
    "            \n",
    "            #calculate friction\n",
    "            f = -mass*g*coeffFric*norm(vel[i])\n",
    "            \n",
    "            #momentum update\n",
    "            vel[i] += f/mass * dt\n",
    "            pos[i] += vel[i] * dt\n",
    "            posData[i].append(pos[i].x)\n",
    "            posData[i+16].append(pos[i].y)\n",
    "        t += dt\n",
    "    return posData,pocketCount"
   ]
  },
  {
   "cell_type": "code",
   "execution_count": null,
   "metadata": {},
   "outputs": [],
   "source": [
    "## Generates HeatMaps"
   ]
  },
  {
   "cell_type": "code",
   "execution_count": 11,
   "metadata": {},
   "outputs": [
    {
     "ename": "IndexError",
     "evalue": "list index out of range",
     "output_type": "error",
     "traceback": [
      "\u001b[1;31m---------------------------------------------------------------------------\u001b[0m",
      "\u001b[1;31mIndexError\u001b[0m                                Traceback (most recent call last)",
      "\u001b[1;32m<ipython-input-11-a8fea0c13c12>\u001b[0m in \u001b[0;36m<module>\u001b[1;34m()\u001b[0m\n\u001b[0;32m     10\u001b[0m \u001b[0mcol\u001b[0m \u001b[1;33m=\u001b[0m \u001b[1;33m[\u001b[0m\u001b[1;33m]\u001b[0m\u001b[1;33m\u001b[0m\u001b[0m\n\u001b[0;32m     11\u001b[0m \u001b[0mfig\u001b[0m\u001b[1;33m,\u001b[0m \u001b[0max\u001b[0m \u001b[1;33m=\u001b[0m \u001b[0mplt\u001b[0m\u001b[1;33m.\u001b[0m\u001b[0msubplots\u001b[0m\u001b[1;33m(\u001b[0m\u001b[0mfigsize\u001b[0m\u001b[1;33m=\u001b[0m\u001b[1;33m(\u001b[0m\u001b[1;36m4\u001b[0m\u001b[1;33m,\u001b[0m\u001b[1;36m8\u001b[0m\u001b[1;33m)\u001b[0m\u001b[1;33m)\u001b[0m\u001b[1;33m\u001b[0m\u001b[0m\n\u001b[1;32m---> 12\u001b[1;33m \u001b[0mplt\u001b[0m\u001b[1;33m.\u001b[0m\u001b[0mtitle\u001b[0m\u001b[1;33m(\u001b[0m\u001b[1;34m\"Heat-Map for \\u03F4 = {0}\"\u001b[0m\u001b[1;33m.\u001b[0m\u001b[0mformat\u001b[0m\u001b[1;33m(\u001b[0m\u001b[0mthetas\u001b[0m\u001b[1;33m[\u001b[0m\u001b[0mi\u001b[0m\u001b[1;33m]\u001b[0m\u001b[1;33m/\u001b[0m\u001b[0mpi\u001b[0m\u001b[1;33m)\u001b[0m \u001b[1;33m+\u001b[0m \u001b[1;34m\"\\u03C0\"\u001b[0m\u001b[1;33m)\u001b[0m\u001b[1;33m\u001b[0m\u001b[0m\n\u001b[0m\u001b[0;32m     13\u001b[0m \u001b[0mplt\u001b[0m\u001b[1;33m.\u001b[0m\u001b[0mylim\u001b[0m\u001b[1;33m(\u001b[0m\u001b[1;33m-\u001b[0m\u001b[0mtableLength\u001b[0m\u001b[1;33m/\u001b[0m\u001b[1;36m2\u001b[0m\u001b[1;33m,\u001b[0m\u001b[0mtableLength\u001b[0m\u001b[1;33m/\u001b[0m\u001b[1;36m2\u001b[0m\u001b[1;33m)\u001b[0m\u001b[1;33m\u001b[0m\u001b[0m\n\u001b[0;32m     14\u001b[0m \u001b[0mplt\u001b[0m\u001b[1;33m.\u001b[0m\u001b[0mxlim\u001b[0m\u001b[1;33m(\u001b[0m\u001b[1;33m-\u001b[0m\u001b[0mtableWidth\u001b[0m\u001b[1;33m/\u001b[0m\u001b[1;36m2\u001b[0m\u001b[1;33m,\u001b[0m \u001b[0mtableWidth\u001b[0m\u001b[1;33m/\u001b[0m\u001b[1;36m2\u001b[0m\u001b[1;33m)\u001b[0m\u001b[1;33m\u001b[0m\u001b[0m\n",
      "\u001b[1;31mIndexError\u001b[0m: list index out of range"
     ]
    },
    {
     "data": {
      "image/png": "[encoded data removed]",
      "text/plain": [
       "<Figure size 288x576 with 1 Axes>"
      ]
     },
     "metadata": {
      "needs_background": "light"
     },
     "output_type": "display_data"
    }
   ],
   "source": [
    "dx = 0.1\n",
    "dy = 0.1\n",
    "thetas = [pi/4,pi/3,pi/2,2*pi/3,3*pi/4]\n",
    "xPos = np.arange(-tableWidth/2 + ballRad,0,dx)\n",
    "yPos = np.arange(-tableLength/2 + ballRad,-tableLength/4,dy)\n",
    "XX,YY = np.meshgrid(xPos,yPos)\n",
    "\n",
    "\n",
    "colors = \"kkkmmmbbbcccgggr\"\n",
    "for i in range(len(thetas)):\n",
    "    col = []\n",
    "    fig, ax = plt.subplots(figsize=(4,8))\n",
    "    plt.title(\"Heat-Map for \\u03F4 = {0}\".format(thetas[i]/pi) + \"\\u03C0\")\n",
    "    plt.ylim(-tableLength/2,tableLength/2) \n",
    "    plt.xlim(-tableWidth/2, tableWidth/2)   \n",
    "    for j in range(len(xPos)):\n",
    "        for k in range(len(yPos)):\n",
    "            pd,pc = simBreak(xPos[j],yPos[k],thetas[i]) \n",
    "            col.append(colors[pc])\n",
    "    plt.scatter(XX,YY,c = col)\n",
    "    plt.show()\n"
   ]
  },
  {
   "cell_type": "markdown",
   "metadata": {},
   "source": [
    "## Plots Ball Positions for a Specific Break"
   ]
  },
  {
   "cell_type": "code",
   "execution_count": 12,
   "metadata": {},
   "outputs": [
    {
     "data": {
      "image/png": "[encoded data removed]",
      "text/plain": [
       "<Figure size 288x576 with 1 Axes>"
      ]
     },
     "metadata": {
      "needs_background": "light"
     },
     "output_type": "display_data"
    },
    {
     "name": "stdout",
     "output_type": "stream",
     "text": [
      "0\n"
     ]
    }
   ],
   "source": [
    "p = simBreak(0,-tableLength/4,pi/2)[0]\n",
    "\n",
    "fig, ax = plt.subplots(figsize=(4,8))\n",
    "plt.title(\"Position of Balls\")\n",
    "plt.ylim(-tableLength/2,tableLength/2) \n",
    "plt.xlim(-tableWidth/2, tableWidth/2) \n",
    "for i in range(16):\n",
    "    plt.scatter(p[i],p[i+16])\n",
    "\n",
    "plt.show()"
   ]
  },
  {
   "cell_type": "code",
   "execution_count": null,
   "metadata": {},
   "outputs": [],
   "source": []
  },
  {
   "cell_type": "code",
   "execution_count": null,
   "metadata": {},
   "outputs": [],
   "source": []
  }
 ],
 "metadata": {
  "kernelspec": {
   "display_name": "Python 3",
   "language": "python",
   "name": "python3"
  },
  "language_info": {
   "codemirror_mode": {
    "name": "ipython",
    "version": 3
   },
   "file_extension": ".py",
   "mimetype": "text/x-python",
   "name": "python",
   "nbconvert_exporter": "python",
   "pygments_lexer": "ipython3",
   "version": "3.7.0"
  }
 },
 "nbformat": 4,
 "nbformat_minor": 2
}
